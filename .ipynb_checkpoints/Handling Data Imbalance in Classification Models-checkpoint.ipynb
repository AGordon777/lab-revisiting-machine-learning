{
 "cells": [
  {
   "cell_type": "markdown",
   "id": "5546ff54",
   "metadata": {},
   "source": [
    "# Lab | Handling Data Imbalance in Classification Models"
   ]
  },
  {
   "cell_type": "markdown",
   "id": "ca7eb96e",
   "metadata": {},
   "source": [
    "### Begin the Modeling here\n",
    "\n",
    "Look critically at the dtypes of numerical and categorical columns and make changes where appropriate.\n",
    "\n",
    "Concatenate numerical and categorical back together again for your X dataframe. Designate the TargetB as y.\n",
    "\n",
    "Split the data into a training set and a test set.\n",
    "\n",
    "Split further into train_num and train_cat. Also test_num and test_cat.\n",
    "\n",
    "Scale the features either by using MinMax Scaler or a Standard Scaler. (train_num, test_num)\n",
    "\n",
    "Encode the categorical features using One-Hot Encoding or Ordinal Encoding. (train_cat, test_cat)\n",
    "\n",
    "fit only on train data, transform both train and test\n",
    "\n",
    "again re-concatenate train_num and train_cat as X_train as well as test_num and test_cat as X_test\n",
    "\n",
    "Fit a logistic regression model on the training data.\n",
    "\n",
    "Check the accuracy on the test data.\n",
    "\n",
    "### Note: So far we have not balanced the data.\n",
    "\n",
    "### Managing imbalance in the dataset\n",
    "\n",
    "Check for the imbalance.\n",
    "\n",
    "Use the resampling strategies used in class for upsampling and downsampling to create a balance between the two classes.\n",
    "\n",
    "Each time fit the model and see how the accuracy of the model has changed."
   ]
  },
  {
   "cell_type": "code",
   "execution_count": null,
   "id": "ed346f3c",
   "metadata": {},
   "outputs": [],
   "source": []
  }
 ],
 "metadata": {
  "kernelspec": {
   "display_name": "Python 3 (ipykernel)",
   "language": "python",
   "name": "python3"
  },
  "language_info": {
   "codemirror_mode": {
    "name": "ipython",
    "version": 3
   },
   "file_extension": ".py",
   "mimetype": "text/x-python",
   "name": "python",
   "nbconvert_exporter": "python",
   "pygments_lexer": "ipython3",
   "version": "3.10.9"
  }
 },
 "nbformat": 4,
 "nbformat_minor": 5
}
