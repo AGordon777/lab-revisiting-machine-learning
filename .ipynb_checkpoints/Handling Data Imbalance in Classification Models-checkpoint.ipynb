{
 "cells": [
  {
   "cell_type": "markdown",
   "id": "7dd9ab34",
   "metadata": {},
   "source": [
    "# Lab | Handling Data Imbalance in Classification Models"
   ]
  },
  {
   "cell_type": "markdown",
   "id": "54cffba3",
   "metadata": {},
   "source": [
    "### Begin the Modeling here\n",
    "\n",
    "Look critically at the dtypes of numerical and categorical columns and make changes where appropriate.\n",
    "\n",
    "Concatenate numerical and categorical back together again for your X dataframe. Designate the TargetB as y.\n",
    "\n",
    "Split the data into a training set and a test set.\n",
    "\n",
    "Split further into train_num and train_cat. Also test_num and test_cat.\n",
    "\n",
    "Scale the features either by using MinMax Scaler or a Standard Scaler. (train_num, test_num)\n",
    "\n",
    "Encode the categorical features using One-Hot Encoding or Ordinal Encoding. (train_cat, test_cat)\n",
    "\n",
    "- fit only on train data, transform both train and test\n",
    "\n",
    "- again re-concatenate train_num and train_cat as X_train as well as test_num and test_cat as X_test\n",
    "\n",
    "Fit a logistic regression model on the training data.\n",
    "\n",
    "Check the accuracy on the test data.\n",
    "\n",
    "#### Note: So far we have not balanced the data.\n",
    "\n",
    "### Managing imbalance in the dataset\n",
    "\n",
    "Check for the imbalance.\n",
    "\n",
    "Use the resampling strategies used in class for upsampling and downsampling to create a balance between the two classes.\n",
    "\n",
    "Each time fit the model and see how the accuracy of the model has changed."
   ]
  },
  {
   "cell_type": "markdown",
   "id": "e0f8ab19",
   "metadata": {},
   "source": [
    "### Preparing the data"
   ]
  },
  {
   "cell_type": "code",
   "execution_count": 1,
   "id": "568f6016",
   "metadata": {},
   "outputs": [],
   "source": [
    "import pandas as pd\n",
    "import numpy as np"
   ]
  },
  {
   "cell_type": "code",
   "execution_count": 2,
   "id": "753b8950",
   "metadata": {},
   "outputs": [
    {
     "data": {
      "text/plain": [
       "(95412, 321)"
      ]
     },
     "metadata": {},
     "output_type": "display_data"
    },
    {
     "data": {
      "text/plain": [
       "(95412, 10)"
      ]
     },
     "metadata": {},
     "output_type": "display_data"
    },
    {
     "data": {
      "text/html": [
       "<div>\n",
       "<style scoped>\n",
       "    .dataframe tbody tr th:only-of-type {\n",
       "        vertical-align: middle;\n",
       "    }\n",
       "\n",
       "    .dataframe tbody tr th {\n",
       "        vertical-align: top;\n",
       "    }\n",
       "\n",
       "    .dataframe thead th {\n",
       "        text-align: right;\n",
       "    }\n",
       "</style>\n",
       "<table border=\"1\" class=\"dataframe\">\n",
       "  <thead>\n",
       "    <tr style=\"text-align: right;\">\n",
       "      <th></th>\n",
       "      <th>TARGET_B</th>\n",
       "      <th>TARGET_D</th>\n",
       "    </tr>\n",
       "  </thead>\n",
       "  <tbody>\n",
       "    <tr>\n",
       "      <th>0</th>\n",
       "      <td>0</td>\n",
       "      <td>0.0</td>\n",
       "    </tr>\n",
       "    <tr>\n",
       "      <th>1</th>\n",
       "      <td>0</td>\n",
       "      <td>0.0</td>\n",
       "    </tr>\n",
       "    <tr>\n",
       "      <th>2</th>\n",
       "      <td>0</td>\n",
       "      <td>0.0</td>\n",
       "    </tr>\n",
       "    <tr>\n",
       "      <th>3</th>\n",
       "      <td>0</td>\n",
       "      <td>0.0</td>\n",
       "    </tr>\n",
       "    <tr>\n",
       "      <th>4</th>\n",
       "      <td>0</td>\n",
       "      <td>0.0</td>\n",
       "    </tr>\n",
       "    <tr>\n",
       "      <th>...</th>\n",
       "      <td>...</td>\n",
       "      <td>...</td>\n",
       "    </tr>\n",
       "    <tr>\n",
       "      <th>95407</th>\n",
       "      <td>0</td>\n",
       "      <td>0.0</td>\n",
       "    </tr>\n",
       "    <tr>\n",
       "      <th>95408</th>\n",
       "      <td>0</td>\n",
       "      <td>0.0</td>\n",
       "    </tr>\n",
       "    <tr>\n",
       "      <th>95409</th>\n",
       "      <td>0</td>\n",
       "      <td>0.0</td>\n",
       "    </tr>\n",
       "    <tr>\n",
       "      <th>95410</th>\n",
       "      <td>1</td>\n",
       "      <td>18.0</td>\n",
       "    </tr>\n",
       "    <tr>\n",
       "      <th>95411</th>\n",
       "      <td>0</td>\n",
       "      <td>0.0</td>\n",
       "    </tr>\n",
       "  </tbody>\n",
       "</table>\n",
       "<p>95412 rows × 2 columns</p>\n",
       "</div>"
      ],
      "text/plain": [
       "       TARGET_B  TARGET_D\n",
       "0             0       0.0\n",
       "1             0       0.0\n",
       "2             0       0.0\n",
       "3             0       0.0\n",
       "4             0       0.0\n",
       "...         ...       ...\n",
       "95407         0       0.0\n",
       "95408         0       0.0\n",
       "95409         0       0.0\n",
       "95410         1      18.0\n",
       "95411         0       0.0\n",
       "\n",
       "[95412 rows x 2 columns]"
      ]
     },
     "execution_count": 2,
     "metadata": {},
     "output_type": "execute_result"
    }
   ],
   "source": [
    "# files were output from previous lab (lab-revisiting-machine-learning.ipynb)\n",
    "\n",
    "numerical = pd.read_csv('numerical.csv').drop(['Unnamed: 0'], axis=1)\n",
    "categorical = pd.read_csv('categorical.csv').drop(['Unnamed: 0'], axis=1)\n",
    "target = pd.read_csv('target.csv').drop(['Unnamed: 0'], axis=1)\n",
    "\n",
    "display(numerical.shape)\n",
    "display(categorical.shape)\n",
    "target"
   ]
  },
  {
   "cell_type": "code",
   "execution_count": 3,
   "id": "d9c31c07",
   "metadata": {},
   "outputs": [
    {
     "data": {
      "text/plain": [
       "STATE       object\n",
       "CLUSTER      int64\n",
       "HOMEOWNR    object\n",
       "GENDER      object\n",
       "DATASRCE     int64\n",
       "RFA_2R      object\n",
       "RFA_2A      object\n",
       "GEOCODE2    object\n",
       "DOMAIN_A    object\n",
       "DOMAIN_B     int64\n",
       "dtype: object"
      ]
     },
     "metadata": {},
     "output_type": "display_data"
    },
    {
     "data": {
      "text/html": [
       "<div>\n",
       "<style scoped>\n",
       "    .dataframe tbody tr th:only-of-type {\n",
       "        vertical-align: middle;\n",
       "    }\n",
       "\n",
       "    .dataframe tbody tr th {\n",
       "        vertical-align: top;\n",
       "    }\n",
       "\n",
       "    .dataframe thead th {\n",
       "        text-align: right;\n",
       "    }\n",
       "</style>\n",
       "<table border=\"1\" class=\"dataframe\">\n",
       "  <thead>\n",
       "    <tr style=\"text-align: right;\">\n",
       "      <th></th>\n",
       "      <th>STATE</th>\n",
       "      <th>CLUSTER</th>\n",
       "      <th>HOMEOWNR</th>\n",
       "      <th>GENDER</th>\n",
       "      <th>DATASRCE</th>\n",
       "      <th>RFA_2R</th>\n",
       "      <th>RFA_2A</th>\n",
       "      <th>GEOCODE2</th>\n",
       "      <th>DOMAIN_A</th>\n",
       "      <th>DOMAIN_B</th>\n",
       "    </tr>\n",
       "  </thead>\n",
       "  <tbody>\n",
       "    <tr>\n",
       "      <th>0</th>\n",
       "      <td>IL</td>\n",
       "      <td>36</td>\n",
       "      <td>U</td>\n",
       "      <td>F</td>\n",
       "      <td>0</td>\n",
       "      <td>L</td>\n",
       "      <td>E</td>\n",
       "      <td>C</td>\n",
       "      <td>T</td>\n",
       "      <td>2</td>\n",
       "    </tr>\n",
       "    <tr>\n",
       "      <th>1</th>\n",
       "      <td>CA</td>\n",
       "      <td>14</td>\n",
       "      <td>H</td>\n",
       "      <td>M</td>\n",
       "      <td>3</td>\n",
       "      <td>L</td>\n",
       "      <td>G</td>\n",
       "      <td>A</td>\n",
       "      <td>S</td>\n",
       "      <td>1</td>\n",
       "    </tr>\n",
       "    <tr>\n",
       "      <th>2</th>\n",
       "      <td>NC</td>\n",
       "      <td>43</td>\n",
       "      <td>U</td>\n",
       "      <td>M</td>\n",
       "      <td>3</td>\n",
       "      <td>L</td>\n",
       "      <td>E</td>\n",
       "      <td>C</td>\n",
       "      <td>R</td>\n",
       "      <td>2</td>\n",
       "    </tr>\n",
       "    <tr>\n",
       "      <th>3</th>\n",
       "      <td>CA</td>\n",
       "      <td>44</td>\n",
       "      <td>U</td>\n",
       "      <td>F</td>\n",
       "      <td>3</td>\n",
       "      <td>L</td>\n",
       "      <td>E</td>\n",
       "      <td>C</td>\n",
       "      <td>R</td>\n",
       "      <td>2</td>\n",
       "    </tr>\n",
       "    <tr>\n",
       "      <th>4</th>\n",
       "      <td>FL</td>\n",
       "      <td>16</td>\n",
       "      <td>H</td>\n",
       "      <td>F</td>\n",
       "      <td>3</td>\n",
       "      <td>L</td>\n",
       "      <td>F</td>\n",
       "      <td>A</td>\n",
       "      <td>S</td>\n",
       "      <td>2</td>\n",
       "    </tr>\n",
       "  </tbody>\n",
       "</table>\n",
       "</div>"
      ],
      "text/plain": [
       "  STATE  CLUSTER HOMEOWNR GENDER  DATASRCE RFA_2R RFA_2A GEOCODE2 DOMAIN_A  \\\n",
       "0    IL       36        U      F         0      L      E        C        T   \n",
       "1    CA       14        H      M         3      L      G        A        S   \n",
       "2    NC       43        U      M         3      L      E        C        R   \n",
       "3    CA       44        U      F         3      L      E        C        R   \n",
       "4    FL       16        H      F         3      L      F        A        S   \n",
       "\n",
       "   DOMAIN_B  \n",
       "0         2  \n",
       "1         1  \n",
       "2         2  \n",
       "3         2  \n",
       "4         2  "
      ]
     },
     "execution_count": 3,
     "metadata": {},
     "output_type": "execute_result"
    }
   ],
   "source": [
    "display(categorical.dtypes)\n",
    "categorical.head()"
   ]
  },
  {
   "cell_type": "code",
   "execution_count": 4,
   "id": "b96bd771",
   "metadata": {},
   "outputs": [
    {
     "data": {
      "text/plain": [
       "STATE       object\n",
       "CLUSTER     object\n",
       "HOMEOWNR    object\n",
       "GENDER      object\n",
       "DATASRCE    object\n",
       "RFA_2R      object\n",
       "RFA_2A      object\n",
       "GEOCODE2    object\n",
       "DOMAIN_A    object\n",
       "DOMAIN_B     int64\n",
       "dtype: object"
      ]
     },
     "execution_count": 4,
     "metadata": {},
     "output_type": "execute_result"
    }
   ],
   "source": [
    "categorical['CLUSTER'] = categorical['CLUSTER'].astype('object')\n",
    "categorical['DATASRCE'] = categorical['DATASRCE'].astype('object')\n",
    "# I will ordinally encode DOMAIN_B so it can remain as numeric to be scaled\n",
    "\n",
    "categorical.dtypes"
   ]
  },
  {
   "cell_type": "code",
   "execution_count": 5,
   "id": "59696b55",
   "metadata": {},
   "outputs": [
    {
     "data": {
      "text/plain": [
       "0    90569\n",
       "1     4843\n",
       "Name: TARGET_B, dtype: int64"
      ]
     },
     "execution_count": 5,
     "metadata": {},
     "output_type": "execute_result"
    }
   ],
   "source": [
    "y = target['TARGET_B']\n",
    "y.value_counts()"
   ]
  },
  {
   "cell_type": "code",
   "execution_count": 6,
   "id": "7ec8f24d",
   "metadata": {},
   "outputs": [
    {
     "data": {
      "text/plain": [
       "(95412, 331)"
      ]
     },
     "execution_count": 6,
     "metadata": {},
     "output_type": "execute_result"
    }
   ],
   "source": [
    "X = pd.concat([numerical, categorical], axis = 1)\n",
    "X.shape"
   ]
  },
  {
   "cell_type": "code",
   "execution_count": 7,
   "id": "469ab555",
   "metadata": {},
   "outputs": [
    {
     "data": {
      "text/plain": [
       "(76329, 9)"
      ]
     },
     "metadata": {},
     "output_type": "display_data"
    },
    {
     "data": {
      "text/html": [
       "<div>\n",
       "<style scoped>\n",
       "    .dataframe tbody tr th:only-of-type {\n",
       "        vertical-align: middle;\n",
       "    }\n",
       "\n",
       "    .dataframe tbody tr th {\n",
       "        vertical-align: top;\n",
       "    }\n",
       "\n",
       "    .dataframe thead th {\n",
       "        text-align: right;\n",
       "    }\n",
       "</style>\n",
       "<table border=\"1\" class=\"dataframe\">\n",
       "  <thead>\n",
       "    <tr style=\"text-align: right;\">\n",
       "      <th></th>\n",
       "      <th>STATE</th>\n",
       "      <th>CLUSTER</th>\n",
       "      <th>HOMEOWNR</th>\n",
       "      <th>GENDER</th>\n",
       "      <th>DATASRCE</th>\n",
       "      <th>RFA_2R</th>\n",
       "      <th>RFA_2A</th>\n",
       "      <th>GEOCODE2</th>\n",
       "      <th>DOMAIN_A</th>\n",
       "    </tr>\n",
       "  </thead>\n",
       "  <tbody>\n",
       "    <tr>\n",
       "      <th>26355</th>\n",
       "      <td>other</td>\n",
       "      <td>36</td>\n",
       "      <td>U</td>\n",
       "      <td>F</td>\n",
       "      <td>0</td>\n",
       "      <td>L</td>\n",
       "      <td>G</td>\n",
       "      <td>B</td>\n",
       "      <td>T</td>\n",
       "    </tr>\n",
       "    <tr>\n",
       "      <th>3034</th>\n",
       "      <td>GA</td>\n",
       "      <td>40</td>\n",
       "      <td>H</td>\n",
       "      <td>other</td>\n",
       "      <td>3</td>\n",
       "      <td>L</td>\n",
       "      <td>E</td>\n",
       "      <td>A</td>\n",
       "      <td>T</td>\n",
       "    </tr>\n",
       "    <tr>\n",
       "      <th>21143</th>\n",
       "      <td>FL</td>\n",
       "      <td>18</td>\n",
       "      <td>U</td>\n",
       "      <td>M</td>\n",
       "      <td>0</td>\n",
       "      <td>L</td>\n",
       "      <td>F</td>\n",
       "      <td>A</td>\n",
       "      <td>S</td>\n",
       "    </tr>\n",
       "    <tr>\n",
       "      <th>46939</th>\n",
       "      <td>other</td>\n",
       "      <td>53</td>\n",
       "      <td>H</td>\n",
       "      <td>F</td>\n",
       "      <td>2</td>\n",
       "      <td>L</td>\n",
       "      <td>G</td>\n",
       "      <td>C</td>\n",
       "      <td>R</td>\n",
       "    </tr>\n",
       "    <tr>\n",
       "      <th>73809</th>\n",
       "      <td>other</td>\n",
       "      <td>27</td>\n",
       "      <td>U</td>\n",
       "      <td>M</td>\n",
       "      <td>0</td>\n",
       "      <td>L</td>\n",
       "      <td>G</td>\n",
       "      <td>B</td>\n",
       "      <td>C</td>\n",
       "    </tr>\n",
       "  </tbody>\n",
       "</table>\n",
       "</div>"
      ],
      "text/plain": [
       "       STATE CLUSTER HOMEOWNR GENDER DATASRCE RFA_2R RFA_2A GEOCODE2 DOMAIN_A\n",
       "26355  other      36        U      F        0      L      G        B        T\n",
       "3034      GA      40        H  other        3      L      E        A        T\n",
       "21143     FL      18        U      M        0      L      F        A        S\n",
       "46939  other      53        H      F        2      L      G        C        R\n",
       "73809  other      27        U      M        0      L      G        B        C"
      ]
     },
     "execution_count": 7,
     "metadata": {},
     "output_type": "execute_result"
    }
   ],
   "source": [
    "from sklearn.model_selection import train_test_split\n",
    "\n",
    "X_train, X_test, y_train, y_test = train_test_split(X, y, test_size=0.20, random_state = 123)\n",
    "\n",
    "X_train_num = X_train.select_dtypes(np.number).copy()\n",
    "X_test_num = X_test.select_dtypes(np.number).copy()\n",
    "X_train_cat = X_train.select_dtypes(object).copy()\n",
    "X_test_cat = X_test.select_dtypes(object).copy()\n",
    "\n",
    "display(X_train_cat.shape) # one column (DOMAIN_B) has been moved over to numeric\n",
    "X_train_cat.head()"
   ]
  },
  {
   "cell_type": "code",
   "execution_count": 8,
   "id": "aa8fdefe",
   "metadata": {},
   "outputs": [
    {
     "data": {
      "text/html": [
       "<div>\n",
       "<style scoped>\n",
       "    .dataframe tbody tr th:only-of-type {\n",
       "        vertical-align: middle;\n",
       "    }\n",
       "\n",
       "    .dataframe tbody tr th {\n",
       "        vertical-align: top;\n",
       "    }\n",
       "\n",
       "    .dataframe thead th {\n",
       "        text-align: right;\n",
       "    }\n",
       "</style>\n",
       "<table border=\"1\" class=\"dataframe\">\n",
       "  <thead>\n",
       "    <tr style=\"text-align: right;\">\n",
       "      <th></th>\n",
       "      <th>ODATEDW</th>\n",
       "      <th>TCODE</th>\n",
       "      <th>DOB</th>\n",
       "      <th>AGE</th>\n",
       "      <th>INCOME</th>\n",
       "      <th>WEALTH1</th>\n",
       "      <th>HIT</th>\n",
       "      <th>MALEMILI</th>\n",
       "      <th>MALEVET</th>\n",
       "      <th>VIETVETS</th>\n",
       "      <th>...</th>\n",
       "      <th>LASTGIFT</th>\n",
       "      <th>LASTDATE</th>\n",
       "      <th>FISTDATE</th>\n",
       "      <th>TIMELAG</th>\n",
       "      <th>AVGGIFT</th>\n",
       "      <th>CONTROLN</th>\n",
       "      <th>HPHONE_D</th>\n",
       "      <th>RFA_2F</th>\n",
       "      <th>CLUSTER2</th>\n",
       "      <th>DOMAIN_B</th>\n",
       "    </tr>\n",
       "  </thead>\n",
       "  <tbody>\n",
       "    <tr>\n",
       "      <th>26355</th>\n",
       "      <td>8601</td>\n",
       "      <td>2</td>\n",
       "      <td>1412</td>\n",
       "      <td>83.000000</td>\n",
       "      <td>5.0</td>\n",
       "      <td>5.0</td>\n",
       "      <td>0</td>\n",
       "      <td>1</td>\n",
       "      <td>48</td>\n",
       "      <td>38</td>\n",
       "      <td>...</td>\n",
       "      <td>50.0</td>\n",
       "      <td>9511</td>\n",
       "      <td>8702</td>\n",
       "      <td>9.0</td>\n",
       "      <td>33.461538</td>\n",
       "      <td>141909</td>\n",
       "      <td>0</td>\n",
       "      <td>2</td>\n",
       "      <td>20.0</td>\n",
       "      <td>2</td>\n",
       "    </tr>\n",
       "    <tr>\n",
       "      <th>3034</th>\n",
       "      <td>8601</td>\n",
       "      <td>0</td>\n",
       "      <td>0</td>\n",
       "      <td>61.611649</td>\n",
       "      <td>6.0</td>\n",
       "      <td>8.0</td>\n",
       "      <td>1</td>\n",
       "      <td>0</td>\n",
       "      <td>20</td>\n",
       "      <td>32</td>\n",
       "      <td>...</td>\n",
       "      <td>12.0</td>\n",
       "      <td>9601</td>\n",
       "      <td>8706</td>\n",
       "      <td>7.0</td>\n",
       "      <td>10.375000</td>\n",
       "      <td>27010</td>\n",
       "      <td>0</td>\n",
       "      <td>1</td>\n",
       "      <td>15.0</td>\n",
       "      <td>2</td>\n",
       "    </tr>\n",
       "    <tr>\n",
       "      <th>21143</th>\n",
       "      <td>9401</td>\n",
       "      <td>1</td>\n",
       "      <td>0</td>\n",
       "      <td>61.611649</td>\n",
       "      <td>5.0</td>\n",
       "      <td>5.0</td>\n",
       "      <td>0</td>\n",
       "      <td>1</td>\n",
       "      <td>24</td>\n",
       "      <td>38</td>\n",
       "      <td>...</td>\n",
       "      <td>16.0</td>\n",
       "      <td>9511</td>\n",
       "      <td>9401</td>\n",
       "      <td>10.0</td>\n",
       "      <td>12.000000</td>\n",
       "      <td>38038</td>\n",
       "      <td>0</td>\n",
       "      <td>1</td>\n",
       "      <td>21.0</td>\n",
       "      <td>2</td>\n",
       "    </tr>\n",
       "    <tr>\n",
       "      <th>46939</th>\n",
       "      <td>8601</td>\n",
       "      <td>0</td>\n",
       "      <td>4407</td>\n",
       "      <td>53.000000</td>\n",
       "      <td>1.0</td>\n",
       "      <td>5.0</td>\n",
       "      <td>0</td>\n",
       "      <td>0</td>\n",
       "      <td>62</td>\n",
       "      <td>20</td>\n",
       "      <td>...</td>\n",
       "      <td>25.0</td>\n",
       "      <td>9505</td>\n",
       "      <td>8706</td>\n",
       "      <td>10.0</td>\n",
       "      <td>8.428571</td>\n",
       "      <td>137020</td>\n",
       "      <td>0</td>\n",
       "      <td>1</td>\n",
       "      <td>62.0</td>\n",
       "      <td>3</td>\n",
       "    </tr>\n",
       "    <tr>\n",
       "      <th>73809</th>\n",
       "      <td>9401</td>\n",
       "      <td>0</td>\n",
       "      <td>4207</td>\n",
       "      <td>55.000000</td>\n",
       "      <td>5.0</td>\n",
       "      <td>5.0</td>\n",
       "      <td>0</td>\n",
       "      <td>0</td>\n",
       "      <td>28</td>\n",
       "      <td>18</td>\n",
       "      <td>...</td>\n",
       "      <td>25.0</td>\n",
       "      <td>9512</td>\n",
       "      <td>9310</td>\n",
       "      <td>9.0</td>\n",
       "      <td>23.750000</td>\n",
       "      <td>51546</td>\n",
       "      <td>0</td>\n",
       "      <td>1</td>\n",
       "      <td>35.0</td>\n",
       "      <td>2</td>\n",
       "    </tr>\n",
       "  </tbody>\n",
       "</table>\n",
       "<p>5 rows × 322 columns</p>\n",
       "</div>"
      ],
      "text/plain": [
       "       ODATEDW  TCODE   DOB        AGE  INCOME  WEALTH1  HIT  MALEMILI  \\\n",
       "26355     8601      2  1412  83.000000     5.0      5.0    0         1   \n",
       "3034      8601      0     0  61.611649     6.0      8.0    1         0   \n",
       "21143     9401      1     0  61.611649     5.0      5.0    0         1   \n",
       "46939     8601      0  4407  53.000000     1.0      5.0    0         0   \n",
       "73809     9401      0  4207  55.000000     5.0      5.0    0         0   \n",
       "\n",
       "       MALEVET  VIETVETS  ...  LASTGIFT  LASTDATE  FISTDATE  TIMELAG  \\\n",
       "26355       48        38  ...      50.0      9511      8702      9.0   \n",
       "3034        20        32  ...      12.0      9601      8706      7.0   \n",
       "21143       24        38  ...      16.0      9511      9401     10.0   \n",
       "46939       62        20  ...      25.0      9505      8706     10.0   \n",
       "73809       28        18  ...      25.0      9512      9310      9.0   \n",
       "\n",
       "         AVGGIFT  CONTROLN  HPHONE_D  RFA_2F  CLUSTER2  DOMAIN_B  \n",
       "26355  33.461538    141909         0       2      20.0         2  \n",
       "3034   10.375000     27010         0       1      15.0         2  \n",
       "21143  12.000000     38038         0       1      21.0         2  \n",
       "46939   8.428571    137020         0       1      62.0         3  \n",
       "73809  23.750000     51546         0       1      35.0         2  \n",
       "\n",
       "[5 rows x 322 columns]"
      ]
     },
     "execution_count": 8,
     "metadata": {},
     "output_type": "execute_result"
    }
   ],
   "source": [
    "X_train_num.head()"
   ]
  },
  {
   "cell_type": "code",
   "execution_count": 9,
   "id": "9776840f",
   "metadata": {},
   "outputs": [
    {
     "data": {
      "text/plain": [
       "26355    0\n",
       "3034     1\n",
       "21143    0\n",
       "46939    0\n",
       "73809    0\n",
       "Name: TARGET_B, dtype: int64"
      ]
     },
     "execution_count": 9,
     "metadata": {},
     "output_type": "execute_result"
    }
   ],
   "source": [
    "y_train.head()"
   ]
  },
  {
   "cell_type": "code",
   "execution_count": 10,
   "id": "96da83a6",
   "metadata": {},
   "outputs": [
    {
     "data": {
      "text/html": [
       "<div>\n",
       "<style scoped>\n",
       "    .dataframe tbody tr th:only-of-type {\n",
       "        vertical-align: middle;\n",
       "    }\n",
       "\n",
       "    .dataframe tbody tr th {\n",
       "        vertical-align: top;\n",
       "    }\n",
       "\n",
       "    .dataframe thead th {\n",
       "        text-align: right;\n",
       "    }\n",
       "</style>\n",
       "<table border=\"1\" class=\"dataframe\">\n",
       "  <thead>\n",
       "    <tr style=\"text-align: right;\">\n",
       "      <th></th>\n",
       "      <th>ODATEDW</th>\n",
       "      <th>TCODE</th>\n",
       "      <th>DOB</th>\n",
       "      <th>AGE</th>\n",
       "      <th>INCOME</th>\n",
       "      <th>WEALTH1</th>\n",
       "      <th>HIT</th>\n",
       "      <th>MALEMILI</th>\n",
       "      <th>MALEVET</th>\n",
       "      <th>VIETVETS</th>\n",
       "      <th>...</th>\n",
       "      <th>LASTGIFT</th>\n",
       "      <th>LASTDATE</th>\n",
       "      <th>FISTDATE</th>\n",
       "      <th>TIMELAG</th>\n",
       "      <th>AVGGIFT</th>\n",
       "      <th>CONTROLN</th>\n",
       "      <th>HPHONE_D</th>\n",
       "      <th>RFA_2F</th>\n",
       "      <th>CLUSTER2</th>\n",
       "      <th>DOMAIN_B</th>\n",
       "    </tr>\n",
       "  </thead>\n",
       "  <tbody>\n",
       "    <tr>\n",
       "      <th>0</th>\n",
       "      <td>0.211470</td>\n",
       "      <td>0.000028</td>\n",
       "      <td>0.145417</td>\n",
       "      <td>0.845361</td>\n",
       "      <td>0.666667</td>\n",
       "      <td>0.555556</td>\n",
       "      <td>0.000000</td>\n",
       "      <td>0.010101</td>\n",
       "      <td>0.484848</td>\n",
       "      <td>0.383838</td>\n",
       "      <td>...</td>\n",
       "      <td>0.050</td>\n",
       "      <td>0.040201</td>\n",
       "      <td>0.906175</td>\n",
       "      <td>0.008272</td>\n",
       "      <td>0.032217</td>\n",
       "      <td>0.739956</td>\n",
       "      <td>0.0</td>\n",
       "      <td>0.333333</td>\n",
       "      <td>0.311475</td>\n",
       "      <td>0.333333</td>\n",
       "    </tr>\n",
       "    <tr>\n",
       "      <th>1</th>\n",
       "      <td>0.211470</td>\n",
       "      <td>0.000000</td>\n",
       "      <td>0.000000</td>\n",
       "      <td>0.624862</td>\n",
       "      <td>0.833333</td>\n",
       "      <td>0.888889</td>\n",
       "      <td>0.004149</td>\n",
       "      <td>0.000000</td>\n",
       "      <td>0.202020</td>\n",
       "      <td>0.323232</td>\n",
       "      <td>...</td>\n",
       "      <td>0.012</td>\n",
       "      <td>0.492462</td>\n",
       "      <td>0.906592</td>\n",
       "      <td>0.006434</td>\n",
       "      <td>0.009101</td>\n",
       "      <td>0.140821</td>\n",
       "      <td>0.0</td>\n",
       "      <td>0.000000</td>\n",
       "      <td>0.229508</td>\n",
       "      <td>0.333333</td>\n",
       "    </tr>\n",
       "    <tr>\n",
       "      <th>2</th>\n",
       "      <td>0.784946</td>\n",
       "      <td>0.000014</td>\n",
       "      <td>0.000000</td>\n",
       "      <td>0.624862</td>\n",
       "      <td>0.666667</td>\n",
       "      <td>0.555556</td>\n",
       "      <td>0.000000</td>\n",
       "      <td>0.010101</td>\n",
       "      <td>0.242424</td>\n",
       "      <td>0.383838</td>\n",
       "      <td>...</td>\n",
       "      <td>0.016</td>\n",
       "      <td>0.040201</td>\n",
       "      <td>0.978965</td>\n",
       "      <td>0.009191</td>\n",
       "      <td>0.010728</td>\n",
       "      <td>0.198326</td>\n",
       "      <td>0.0</td>\n",
       "      <td>0.000000</td>\n",
       "      <td>0.327869</td>\n",
       "      <td>0.333333</td>\n",
       "    </tr>\n",
       "    <tr>\n",
       "      <th>3</th>\n",
       "      <td>0.211470</td>\n",
       "      <td>0.000000</td>\n",
       "      <td>0.453862</td>\n",
       "      <td>0.536082</td>\n",
       "      <td>0.000000</td>\n",
       "      <td>0.555556</td>\n",
       "      <td>0.000000</td>\n",
       "      <td>0.000000</td>\n",
       "      <td>0.626263</td>\n",
       "      <td>0.202020</td>\n",
       "      <td>...</td>\n",
       "      <td>0.025</td>\n",
       "      <td>0.010050</td>\n",
       "      <td>0.906592</td>\n",
       "      <td>0.009191</td>\n",
       "      <td>0.007152</td>\n",
       "      <td>0.714462</td>\n",
       "      <td>0.0</td>\n",
       "      <td>0.000000</td>\n",
       "      <td>1.000000</td>\n",
       "      <td>0.666667</td>\n",
       "    </tr>\n",
       "    <tr>\n",
       "      <th>4</th>\n",
       "      <td>0.784946</td>\n",
       "      <td>0.000000</td>\n",
       "      <td>0.433265</td>\n",
       "      <td>0.556701</td>\n",
       "      <td>0.666667</td>\n",
       "      <td>0.555556</td>\n",
       "      <td>0.000000</td>\n",
       "      <td>0.000000</td>\n",
       "      <td>0.282828</td>\n",
       "      <td>0.181818</td>\n",
       "      <td>...</td>\n",
       "      <td>0.025</td>\n",
       "      <td>0.045226</td>\n",
       "      <td>0.969489</td>\n",
       "      <td>0.008272</td>\n",
       "      <td>0.022493</td>\n",
       "      <td>0.268763</td>\n",
       "      <td>0.0</td>\n",
       "      <td>0.000000</td>\n",
       "      <td>0.557377</td>\n",
       "      <td>0.333333</td>\n",
       "    </tr>\n",
       "  </tbody>\n",
       "</table>\n",
       "<p>5 rows × 322 columns</p>\n",
       "</div>"
      ],
      "text/plain": [
       "    ODATEDW     TCODE       DOB       AGE    INCOME   WEALTH1       HIT  \\\n",
       "0  0.211470  0.000028  0.145417  0.845361  0.666667  0.555556  0.000000   \n",
       "1  0.211470  0.000000  0.000000  0.624862  0.833333  0.888889  0.004149   \n",
       "2  0.784946  0.000014  0.000000  0.624862  0.666667  0.555556  0.000000   \n",
       "3  0.211470  0.000000  0.453862  0.536082  0.000000  0.555556  0.000000   \n",
       "4  0.784946  0.000000  0.433265  0.556701  0.666667  0.555556  0.000000   \n",
       "\n",
       "   MALEMILI   MALEVET  VIETVETS  ...  LASTGIFT  LASTDATE  FISTDATE   TIMELAG  \\\n",
       "0  0.010101  0.484848  0.383838  ...     0.050  0.040201  0.906175  0.008272   \n",
       "1  0.000000  0.202020  0.323232  ...     0.012  0.492462  0.906592  0.006434   \n",
       "2  0.010101  0.242424  0.383838  ...     0.016  0.040201  0.978965  0.009191   \n",
       "3  0.000000  0.626263  0.202020  ...     0.025  0.010050  0.906592  0.009191   \n",
       "4  0.000000  0.282828  0.181818  ...     0.025  0.045226  0.969489  0.008272   \n",
       "\n",
       "    AVGGIFT  CONTROLN  HPHONE_D    RFA_2F  CLUSTER2  DOMAIN_B  \n",
       "0  0.032217  0.739956       0.0  0.333333  0.311475  0.333333  \n",
       "1  0.009101  0.140821       0.0  0.000000  0.229508  0.333333  \n",
       "2  0.010728  0.198326       0.0  0.000000  0.327869  0.333333  \n",
       "3  0.007152  0.714462       0.0  0.000000  1.000000  0.666667  \n",
       "4  0.022493  0.268763       0.0  0.000000  0.557377  0.333333  \n",
       "\n",
       "[5 rows x 322 columns]"
      ]
     },
     "execution_count": 10,
     "metadata": {},
     "output_type": "execute_result"
    }
   ],
   "source": [
    "from sklearn.preprocessing import MinMaxScaler\n",
    "\n",
    "transformer = MinMaxScaler().fit(X_train_num) # fit only on the training set, but applied to both train and test (below)\n",
    "\n",
    "X_train_scaled = pd.DataFrame(transformer.transform(X_train_num), columns=X_train_num.columns)\n",
    "X_test_scaled = pd.DataFrame(transformer.transform(X_test_num), columns=X_train_num.columns)\n",
    "\n",
    "X_train_scaled.head()"
   ]
  },
  {
   "cell_type": "code",
   "execution_count": 11,
   "id": "cf63376c",
   "metadata": {},
   "outputs": [
    {
     "data": {
      "text/html": [
       "<div>\n",
       "<style scoped>\n",
       "    .dataframe tbody tr th:only-of-type {\n",
       "        vertical-align: middle;\n",
       "    }\n",
       "\n",
       "    .dataframe tbody tr th {\n",
       "        vertical-align: top;\n",
       "    }\n",
       "\n",
       "    .dataframe thead th {\n",
       "        text-align: right;\n",
       "    }\n",
       "</style>\n",
       "<table border=\"1\" class=\"dataframe\">\n",
       "  <thead>\n",
       "    <tr style=\"text-align: right;\">\n",
       "      <th></th>\n",
       "      <th>STATE_FL</th>\n",
       "      <th>STATE_GA</th>\n",
       "      <th>STATE_IL</th>\n",
       "      <th>STATE_IN</th>\n",
       "      <th>STATE_MI</th>\n",
       "      <th>STATE_MO</th>\n",
       "      <th>STATE_NC</th>\n",
       "      <th>STATE_TX</th>\n",
       "      <th>STATE_WA</th>\n",
       "      <th>STATE_WI</th>\n",
       "      <th>...</th>\n",
       "      <th>RFA_2A_E</th>\n",
       "      <th>RFA_2A_F</th>\n",
       "      <th>RFA_2A_G</th>\n",
       "      <th>GEOCODE2_B</th>\n",
       "      <th>GEOCODE2_C</th>\n",
       "      <th>GEOCODE2_D</th>\n",
       "      <th>DOMAIN_A_R</th>\n",
       "      <th>DOMAIN_A_S</th>\n",
       "      <th>DOMAIN_A_T</th>\n",
       "      <th>DOMAIN_A_U</th>\n",
       "    </tr>\n",
       "  </thead>\n",
       "  <tbody>\n",
       "    <tr>\n",
       "      <th>0</th>\n",
       "      <td>0.0</td>\n",
       "      <td>0.0</td>\n",
       "      <td>0.0</td>\n",
       "      <td>0.0</td>\n",
       "      <td>0.0</td>\n",
       "      <td>0.0</td>\n",
       "      <td>0.0</td>\n",
       "      <td>0.0</td>\n",
       "      <td>0.0</td>\n",
       "      <td>0.0</td>\n",
       "      <td>...</td>\n",
       "      <td>0.0</td>\n",
       "      <td>0.0</td>\n",
       "      <td>1.0</td>\n",
       "      <td>1.0</td>\n",
       "      <td>0.0</td>\n",
       "      <td>0.0</td>\n",
       "      <td>0.0</td>\n",
       "      <td>0.0</td>\n",
       "      <td>1.0</td>\n",
       "      <td>0.0</td>\n",
       "    </tr>\n",
       "    <tr>\n",
       "      <th>1</th>\n",
       "      <td>0.0</td>\n",
       "      <td>1.0</td>\n",
       "      <td>0.0</td>\n",
       "      <td>0.0</td>\n",
       "      <td>0.0</td>\n",
       "      <td>0.0</td>\n",
       "      <td>0.0</td>\n",
       "      <td>0.0</td>\n",
       "      <td>0.0</td>\n",
       "      <td>0.0</td>\n",
       "      <td>...</td>\n",
       "      <td>1.0</td>\n",
       "      <td>0.0</td>\n",
       "      <td>0.0</td>\n",
       "      <td>0.0</td>\n",
       "      <td>0.0</td>\n",
       "      <td>0.0</td>\n",
       "      <td>0.0</td>\n",
       "      <td>0.0</td>\n",
       "      <td>1.0</td>\n",
       "      <td>0.0</td>\n",
       "    </tr>\n",
       "    <tr>\n",
       "      <th>2</th>\n",
       "      <td>1.0</td>\n",
       "      <td>0.0</td>\n",
       "      <td>0.0</td>\n",
       "      <td>0.0</td>\n",
       "      <td>0.0</td>\n",
       "      <td>0.0</td>\n",
       "      <td>0.0</td>\n",
       "      <td>0.0</td>\n",
       "      <td>0.0</td>\n",
       "      <td>0.0</td>\n",
       "      <td>...</td>\n",
       "      <td>0.0</td>\n",
       "      <td>1.0</td>\n",
       "      <td>0.0</td>\n",
       "      <td>0.0</td>\n",
       "      <td>0.0</td>\n",
       "      <td>0.0</td>\n",
       "      <td>0.0</td>\n",
       "      <td>1.0</td>\n",
       "      <td>0.0</td>\n",
       "      <td>0.0</td>\n",
       "    </tr>\n",
       "    <tr>\n",
       "      <th>3</th>\n",
       "      <td>0.0</td>\n",
       "      <td>0.0</td>\n",
       "      <td>0.0</td>\n",
       "      <td>0.0</td>\n",
       "      <td>0.0</td>\n",
       "      <td>0.0</td>\n",
       "      <td>0.0</td>\n",
       "      <td>0.0</td>\n",
       "      <td>0.0</td>\n",
       "      <td>0.0</td>\n",
       "      <td>...</td>\n",
       "      <td>0.0</td>\n",
       "      <td>0.0</td>\n",
       "      <td>1.0</td>\n",
       "      <td>0.0</td>\n",
       "      <td>1.0</td>\n",
       "      <td>0.0</td>\n",
       "      <td>1.0</td>\n",
       "      <td>0.0</td>\n",
       "      <td>0.0</td>\n",
       "      <td>0.0</td>\n",
       "    </tr>\n",
       "    <tr>\n",
       "      <th>4</th>\n",
       "      <td>0.0</td>\n",
       "      <td>0.0</td>\n",
       "      <td>0.0</td>\n",
       "      <td>0.0</td>\n",
       "      <td>0.0</td>\n",
       "      <td>0.0</td>\n",
       "      <td>0.0</td>\n",
       "      <td>0.0</td>\n",
       "      <td>0.0</td>\n",
       "      <td>0.0</td>\n",
       "      <td>...</td>\n",
       "      <td>0.0</td>\n",
       "      <td>0.0</td>\n",
       "      <td>1.0</td>\n",
       "      <td>1.0</td>\n",
       "      <td>0.0</td>\n",
       "      <td>0.0</td>\n",
       "      <td>0.0</td>\n",
       "      <td>0.0</td>\n",
       "      <td>0.0</td>\n",
       "      <td>0.0</td>\n",
       "    </tr>\n",
       "  </tbody>\n",
       "</table>\n",
       "<p>5 rows × 79 columns</p>\n",
       "</div>"
      ],
      "text/plain": [
       "   STATE_FL  STATE_GA  STATE_IL  STATE_IN  STATE_MI  STATE_MO  STATE_NC  \\\n",
       "0       0.0       0.0       0.0       0.0       0.0       0.0       0.0   \n",
       "1       0.0       1.0       0.0       0.0       0.0       0.0       0.0   \n",
       "2       1.0       0.0       0.0       0.0       0.0       0.0       0.0   \n",
       "3       0.0       0.0       0.0       0.0       0.0       0.0       0.0   \n",
       "4       0.0       0.0       0.0       0.0       0.0       0.0       0.0   \n",
       "\n",
       "   STATE_TX  STATE_WA  STATE_WI  ...  RFA_2A_E  RFA_2A_F  RFA_2A_G  \\\n",
       "0       0.0       0.0       0.0  ...       0.0       0.0       1.0   \n",
       "1       0.0       0.0       0.0  ...       1.0       0.0       0.0   \n",
       "2       0.0       0.0       0.0  ...       0.0       1.0       0.0   \n",
       "3       0.0       0.0       0.0  ...       0.0       0.0       1.0   \n",
       "4       0.0       0.0       0.0  ...       0.0       0.0       1.0   \n",
       "\n",
       "   GEOCODE2_B  GEOCODE2_C  GEOCODE2_D  DOMAIN_A_R  DOMAIN_A_S  DOMAIN_A_T  \\\n",
       "0         1.0         0.0         0.0         0.0         0.0         1.0   \n",
       "1         0.0         0.0         0.0         0.0         0.0         1.0   \n",
       "2         0.0         0.0         0.0         0.0         1.0         0.0   \n",
       "3         0.0         1.0         0.0         1.0         0.0         0.0   \n",
       "4         1.0         0.0         0.0         0.0         0.0         0.0   \n",
       "\n",
       "   DOMAIN_A_U  \n",
       "0         0.0  \n",
       "1         0.0  \n",
       "2         0.0  \n",
       "3         0.0  \n",
       "4         0.0  \n",
       "\n",
       "[5 rows x 79 columns]"
      ]
     },
     "execution_count": 11,
     "metadata": {},
     "output_type": "execute_result"
    }
   ],
   "source": [
    "from sklearn.preprocessing import OneHotEncoder\n",
    "\n",
    "encoder = OneHotEncoder(drop='first').fit(X_train_cat) # again, fit only on the training set, but applied to both\n",
    "cols = encoder.get_feature_names_out(input_features=X_train_cat.columns)\n",
    "\n",
    "X_train_encode = pd.DataFrame(encoder.transform(X_train_cat).toarray(),columns=cols)\n",
    "X_test_encode = pd.DataFrame(encoder.transform(X_test_cat).toarray(),columns=cols)\n",
    "\n",
    "X_train_encode.head()"
   ]
  },
  {
   "cell_type": "code",
   "execution_count": 12,
   "id": "7126264b",
   "metadata": {},
   "outputs": [],
   "source": [
    "# now we recombine the scaled/encoded test and train sets\n",
    "# we also reset the indexes of the y series to realign with the transformed X\n",
    "\n",
    "X_train_transformed = pd.concat([X_train_scaled,X_train_encode], axis = 1)\n",
    "X_test_transformed = pd.concat([X_test_scaled,X_test_encode], axis = 1)\n",
    "\n",
    "y_train = y_train.reset_index(drop=True)          # to realign the X and y datasets for when we over/under-sample later\n",
    "y_test = y_test.reset_index(drop=True)"
   ]
  },
  {
   "cell_type": "markdown",
   "id": "4203cdaa",
   "metadata": {},
   "source": [
    "### Logistic Regression LR"
   ]
  },
  {
   "cell_type": "code",
   "execution_count": 13,
   "id": "7bf02f1f",
   "metadata": {},
   "outputs": [],
   "source": [
    "from sklearn.linear_model import LogisticRegression\n",
    "\n",
    "LR = LogisticRegression(max_iter = 1000).fit(X_train_transformed, y_train) # use default parameters\n",
    "\n",
    "score_LR = LR.score(X_test_transformed, y_test)"
   ]
  },
  {
   "cell_type": "code",
   "execution_count": 14,
   "id": "601c63b7",
   "metadata": {},
   "outputs": [
    {
     "data": {
      "text/plain": [
       "0.9493790284546455"
      ]
     },
     "execution_count": 14,
     "metadata": {},
     "output_type": "execute_result"
    }
   ],
   "source": [
    "score_LR    # this is a very high score"
   ]
  },
  {
   "cell_type": "markdown",
   "id": "d75fc33b",
   "metadata": {},
   "source": [
    "### LR - Resampling"
   ]
  },
  {
   "cell_type": "code",
   "execution_count": 15,
   "id": "925eda0e",
   "metadata": {},
   "outputs": [],
   "source": [
    "# We just over/undersample the train data to improve the model. It is still tested with the test data as before."
   ]
  },
  {
   "cell_type": "code",
   "execution_count": 16,
   "id": "87f798fe",
   "metadata": {},
   "outputs": [
    {
     "data": {
      "text/plain": [
       "0    72452\n",
       "1     3877\n",
       "Name: TARGET_B, dtype: int64"
      ]
     },
     "execution_count": 16,
     "metadata": {},
     "output_type": "execute_result"
    }
   ],
   "source": [
    "y_train.value_counts()"
   ]
  },
  {
   "cell_type": "code",
   "execution_count": 17,
   "id": "3222750b",
   "metadata": {},
   "outputs": [
    {
     "data": {
      "text/plain": [
       "(72452, 402)"
      ]
     },
     "metadata": {},
     "output_type": "display_data"
    },
    {
     "data": {
      "text/plain": [
       "(3877, 402)"
      ]
     },
     "execution_count": 17,
     "metadata": {},
     "output_type": "execute_result"
    }
   ],
   "source": [
    "from sklearn.utils import resample\n",
    "\n",
    "train = pd.concat([X_train_transformed, y_train],axis=1) # we recombine the X and y to maintain relationship within the rows\n",
    "\n",
    "train_0 = train[train['TARGET_B']==0]\n",
    "train_1 = train[train['TARGET_B']==1]\n",
    "\n",
    "display(train_0.shape)\n",
    "train_1.shape            # the data is imbalanced"
   ]
  },
  {
   "cell_type": "code",
   "execution_count": 18,
   "id": "132fe745",
   "metadata": {},
   "outputs": [
    {
     "data": {
      "text/plain": [
       "(72452, 402)"
      ]
     },
     "metadata": {},
     "output_type": "display_data"
    },
    {
     "data": {
      "text/plain": [
       "(72452, 402)"
      ]
     },
     "metadata": {},
     "output_type": "display_data"
    }
   ],
   "source": [
    "# first we will oversample the train_1 dataset\n",
    "\n",
    "train_1_oversampled = resample(train_1,\n",
    "                                    replace=True,\n",
    "                                    n_samples = len(train_0),\n",
    "                                    random_state=0)\n",
    "\n",
    "display(train_1_oversampled.shape)\n",
    "display(train_0.shape)"
   ]
  },
  {
   "cell_type": "code",
   "execution_count": 19,
   "id": "5d08bb8b",
   "metadata": {},
   "outputs": [],
   "source": [
    "train_oversampled = pd.concat([train_0, train_1_oversampled],axis=0)\n",
    "y_train_over = train_oversampled['TARGET_B'].copy()\n",
    "X_train_over = train_oversampled.drop('TARGET_B',axis = 1).copy()"
   ]
  },
  {
   "cell_type": "code",
   "execution_count": 20,
   "id": "b3086bd8",
   "metadata": {},
   "outputs": [],
   "source": [
    "LR_over = LogisticRegression(max_iter = 1500).fit(X_train_over, y_train_over)\n",
    "\n",
    "score_LR_over = LR_over.score(X_test_transformed, y_test)"
   ]
  },
  {
   "cell_type": "code",
   "execution_count": 21,
   "id": "c99f3dc8",
   "metadata": {},
   "outputs": [
    {
     "data": {
      "text/plain": [
       "0.6186658282240738"
      ]
     },
     "execution_count": 21,
     "metadata": {},
     "output_type": "execute_result"
    }
   ],
   "source": [
    "score_LR_over"
   ]
  },
  {
   "cell_type": "code",
   "execution_count": 22,
   "id": "9c744e25",
   "metadata": {},
   "outputs": [
    {
     "data": {
      "text/plain": [
       "(3877, 402)"
      ]
     },
     "metadata": {},
     "output_type": "display_data"
    },
    {
     "data": {
      "text/plain": [
       "(3877, 402)"
      ]
     },
     "metadata": {},
     "output_type": "display_data"
    }
   ],
   "source": [
    "# now let's undersample the train_0 dataset\n",
    "\n",
    "train_0_undersampled = resample(train_0,\n",
    "                                    replace=False,\n",
    "                                    n_samples = len(train_1),\n",
    "                                    random_state=0)\n",
    "\n",
    "display(train_0_undersampled.shape)\n",
    "display(train_1.shape)"
   ]
  },
  {
   "cell_type": "code",
   "execution_count": 23,
   "id": "87697791",
   "metadata": {},
   "outputs": [],
   "source": [
    "train_undersampled = pd.concat([train_0_undersampled, train_1],axis=0)\n",
    "y_train_under = train_undersampled['TARGET_B'].copy()\n",
    "X_train_under = train_undersampled.drop('TARGET_B',axis = 1).copy()"
   ]
  },
  {
   "cell_type": "code",
   "execution_count": 24,
   "id": "53735557",
   "metadata": {},
   "outputs": [],
   "source": [
    "LR_under = LogisticRegression(max_iter = 1000).fit(X_train_under, y_train_under)\n",
    "\n",
    "score_LR_under = LR_under.score(X_test_transformed, y_test)"
   ]
  },
  {
   "cell_type": "code",
   "execution_count": 25,
   "id": "fec24fe8",
   "metadata": {},
   "outputs": [
    {
     "data": {
      "text/plain": [
       "0.590525598700414"
      ]
     },
     "execution_count": 25,
     "metadata": {},
     "output_type": "execute_result"
    }
   ],
   "source": [
    "score_LR_under"
   ]
  },
  {
   "cell_type": "code",
   "execution_count": 26,
   "id": "616f7d25",
   "metadata": {},
   "outputs": [
    {
     "name": "stdout",
     "output_type": "stream",
     "text": [
      "Original Logistic Regression score:       0.9493790284546455\n",
      "Over-sampled Logistic Regression score:   0.6186658282240738\n",
      "Under-sampled Logistic Regression score:  0.590525598700414\n"
     ]
    }
   ],
   "source": [
    "print('Original Logistic Regression score:      ', score_LR)\n",
    "print('Over-sampled Logistic Regression score:  ',score_LR_over)\n",
    "print('Under-sampled Logistic Regression score: ',score_LR_under)"
   ]
  },
  {
   "cell_type": "markdown",
   "id": "47f9cc64",
   "metadata": {},
   "source": [
    "### Nearest Neighbour Classifier KNC"
   ]
  },
  {
   "cell_type": "code",
   "execution_count": 27,
   "id": "990da269",
   "metadata": {},
   "outputs": [],
   "source": [
    "# we will use the original (imbalanced) train dataset"
   ]
  },
  {
   "cell_type": "code",
   "execution_count": 28,
   "id": "ec69fedd",
   "metadata": {},
   "outputs": [
    {
     "data": {
      "text/html": [
       "<style>#sk-container-id-1 {color: black;background-color: white;}#sk-container-id-1 pre{padding: 0;}#sk-container-id-1 div.sk-toggleable {background-color: white;}#sk-container-id-1 label.sk-toggleable__label {cursor: pointer;display: block;width: 100%;margin-bottom: 0;padding: 0.3em;box-sizing: border-box;text-align: center;}#sk-container-id-1 label.sk-toggleable__label-arrow:before {content: \"▸\";float: left;margin-right: 0.25em;color: #696969;}#sk-container-id-1 label.sk-toggleable__label-arrow:hover:before {color: black;}#sk-container-id-1 div.sk-estimator:hover label.sk-toggleable__label-arrow:before {color: black;}#sk-container-id-1 div.sk-toggleable__content {max-height: 0;max-width: 0;overflow: hidden;text-align: left;background-color: #f0f8ff;}#sk-container-id-1 div.sk-toggleable__content pre {margin: 0.2em;color: black;border-radius: 0.25em;background-color: #f0f8ff;}#sk-container-id-1 input.sk-toggleable__control:checked~div.sk-toggleable__content {max-height: 200px;max-width: 100%;overflow: auto;}#sk-container-id-1 input.sk-toggleable__control:checked~label.sk-toggleable__label-arrow:before {content: \"▾\";}#sk-container-id-1 div.sk-estimator input.sk-toggleable__control:checked~label.sk-toggleable__label {background-color: #d4ebff;}#sk-container-id-1 div.sk-label input.sk-toggleable__control:checked~label.sk-toggleable__label {background-color: #d4ebff;}#sk-container-id-1 input.sk-hidden--visually {border: 0;clip: rect(1px 1px 1px 1px);clip: rect(1px, 1px, 1px, 1px);height: 1px;margin: -1px;overflow: hidden;padding: 0;position: absolute;width: 1px;}#sk-container-id-1 div.sk-estimator {font-family: monospace;background-color: #f0f8ff;border: 1px dotted black;border-radius: 0.25em;box-sizing: border-box;margin-bottom: 0.5em;}#sk-container-id-1 div.sk-estimator:hover {background-color: #d4ebff;}#sk-container-id-1 div.sk-parallel-item::after {content: \"\";width: 100%;border-bottom: 1px solid gray;flex-grow: 1;}#sk-container-id-1 div.sk-label:hover label.sk-toggleable__label {background-color: #d4ebff;}#sk-container-id-1 div.sk-serial::before {content: \"\";position: absolute;border-left: 1px solid gray;box-sizing: border-box;top: 0;bottom: 0;left: 50%;z-index: 0;}#sk-container-id-1 div.sk-serial {display: flex;flex-direction: column;align-items: center;background-color: white;padding-right: 0.2em;padding-left: 0.2em;position: relative;}#sk-container-id-1 div.sk-item {position: relative;z-index: 1;}#sk-container-id-1 div.sk-parallel {display: flex;align-items: stretch;justify-content: center;background-color: white;position: relative;}#sk-container-id-1 div.sk-item::before, #sk-container-id-1 div.sk-parallel-item::before {content: \"\";position: absolute;border-left: 1px solid gray;box-sizing: border-box;top: 0;bottom: 0;left: 50%;z-index: -1;}#sk-container-id-1 div.sk-parallel-item {display: flex;flex-direction: column;z-index: 1;position: relative;background-color: white;}#sk-container-id-1 div.sk-parallel-item:first-child::after {align-self: flex-end;width: 50%;}#sk-container-id-1 div.sk-parallel-item:last-child::after {align-self: flex-start;width: 50%;}#sk-container-id-1 div.sk-parallel-item:only-child::after {width: 0;}#sk-container-id-1 div.sk-dashed-wrapped {border: 1px dashed gray;margin: 0 0.4em 0.5em 0.4em;box-sizing: border-box;padding-bottom: 0.4em;background-color: white;}#sk-container-id-1 div.sk-label label {font-family: monospace;font-weight: bold;display: inline-block;line-height: 1.2em;}#sk-container-id-1 div.sk-label-container {text-align: center;}#sk-container-id-1 div.sk-container {/* jupyter's `normalize.less` sets `[hidden] { display: none; }` but bootstrap.min.css set `[hidden] { display: none !important; }` so we also need the `!important` here to be able to override the default hidden behavior on the sphinx rendered scikit-learn.org. See: https://github.com/scikit-learn/scikit-learn/issues/21755 */display: inline-block !important;position: relative;}#sk-container-id-1 div.sk-text-repr-fallback {display: none;}</style><div id=\"sk-container-id-1\" class=\"sk-top-container\"><div class=\"sk-text-repr-fallback\"><pre>KNeighborsClassifier()</pre><b>In a Jupyter environment, please rerun this cell to show the HTML representation or trust the notebook. <br />On GitHub, the HTML representation is unable to render, please try loading this page with nbviewer.org.</b></div><div class=\"sk-container\" hidden><div class=\"sk-item\"><div class=\"sk-estimator sk-toggleable\"><input class=\"sk-toggleable__control sk-hidden--visually\" id=\"sk-estimator-id-1\" type=\"checkbox\" checked><label for=\"sk-estimator-id-1\" class=\"sk-toggleable__label sk-toggleable__label-arrow\">KNeighborsClassifier</label><div class=\"sk-toggleable__content\"><pre>KNeighborsClassifier()</pre></div></div></div></div></div>"
      ],
      "text/plain": [
       "KNeighborsClassifier()"
      ]
     },
     "execution_count": 28,
     "metadata": {},
     "output_type": "execute_result"
    }
   ],
   "source": [
    "from sklearn import neighbors\n",
    "KNC = neighbors.KNeighborsClassifier()\n",
    "KNC.fit(X_train_transformed, y_train)"
   ]
  },
  {
   "cell_type": "code",
   "execution_count": 29,
   "id": "cc9cdc95",
   "metadata": {},
   "outputs": [
    {
     "data": {
      "text/plain": [
       "0.947911753917099"
      ]
     },
     "execution_count": 29,
     "metadata": {},
     "output_type": "execute_result"
    }
   ],
   "source": [
    "score_KNC = KNC.score(X_test_transformed, y_test)\n",
    "score_KNC"
   ]
  },
  {
   "cell_type": "markdown",
   "id": "332d660e",
   "metadata": {},
   "source": [
    "### Decision Tree Classifier DTC"
   ]
  },
  {
   "cell_type": "code",
   "execution_count": 30,
   "id": "4d4045bb",
   "metadata": {},
   "outputs": [
    {
     "data": {
      "text/html": [
       "<style>#sk-container-id-2 {color: black;background-color: white;}#sk-container-id-2 pre{padding: 0;}#sk-container-id-2 div.sk-toggleable {background-color: white;}#sk-container-id-2 label.sk-toggleable__label {cursor: pointer;display: block;width: 100%;margin-bottom: 0;padding: 0.3em;box-sizing: border-box;text-align: center;}#sk-container-id-2 label.sk-toggleable__label-arrow:before {content: \"▸\";float: left;margin-right: 0.25em;color: #696969;}#sk-container-id-2 label.sk-toggleable__label-arrow:hover:before {color: black;}#sk-container-id-2 div.sk-estimator:hover label.sk-toggleable__label-arrow:before {color: black;}#sk-container-id-2 div.sk-toggleable__content {max-height: 0;max-width: 0;overflow: hidden;text-align: left;background-color: #f0f8ff;}#sk-container-id-2 div.sk-toggleable__content pre {margin: 0.2em;color: black;border-radius: 0.25em;background-color: #f0f8ff;}#sk-container-id-2 input.sk-toggleable__control:checked~div.sk-toggleable__content {max-height: 200px;max-width: 100%;overflow: auto;}#sk-container-id-2 input.sk-toggleable__control:checked~label.sk-toggleable__label-arrow:before {content: \"▾\";}#sk-container-id-2 div.sk-estimator input.sk-toggleable__control:checked~label.sk-toggleable__label {background-color: #d4ebff;}#sk-container-id-2 div.sk-label input.sk-toggleable__control:checked~label.sk-toggleable__label {background-color: #d4ebff;}#sk-container-id-2 input.sk-hidden--visually {border: 0;clip: rect(1px 1px 1px 1px);clip: rect(1px, 1px, 1px, 1px);height: 1px;margin: -1px;overflow: hidden;padding: 0;position: absolute;width: 1px;}#sk-container-id-2 div.sk-estimator {font-family: monospace;background-color: #f0f8ff;border: 1px dotted black;border-radius: 0.25em;box-sizing: border-box;margin-bottom: 0.5em;}#sk-container-id-2 div.sk-estimator:hover {background-color: #d4ebff;}#sk-container-id-2 div.sk-parallel-item::after {content: \"\";width: 100%;border-bottom: 1px solid gray;flex-grow: 1;}#sk-container-id-2 div.sk-label:hover label.sk-toggleable__label {background-color: #d4ebff;}#sk-container-id-2 div.sk-serial::before {content: \"\";position: absolute;border-left: 1px solid gray;box-sizing: border-box;top: 0;bottom: 0;left: 50%;z-index: 0;}#sk-container-id-2 div.sk-serial {display: flex;flex-direction: column;align-items: center;background-color: white;padding-right: 0.2em;padding-left: 0.2em;position: relative;}#sk-container-id-2 div.sk-item {position: relative;z-index: 1;}#sk-container-id-2 div.sk-parallel {display: flex;align-items: stretch;justify-content: center;background-color: white;position: relative;}#sk-container-id-2 div.sk-item::before, #sk-container-id-2 div.sk-parallel-item::before {content: \"\";position: absolute;border-left: 1px solid gray;box-sizing: border-box;top: 0;bottom: 0;left: 50%;z-index: -1;}#sk-container-id-2 div.sk-parallel-item {display: flex;flex-direction: column;z-index: 1;position: relative;background-color: white;}#sk-container-id-2 div.sk-parallel-item:first-child::after {align-self: flex-end;width: 50%;}#sk-container-id-2 div.sk-parallel-item:last-child::after {align-self: flex-start;width: 50%;}#sk-container-id-2 div.sk-parallel-item:only-child::after {width: 0;}#sk-container-id-2 div.sk-dashed-wrapped {border: 1px dashed gray;margin: 0 0.4em 0.5em 0.4em;box-sizing: border-box;padding-bottom: 0.4em;background-color: white;}#sk-container-id-2 div.sk-label label {font-family: monospace;font-weight: bold;display: inline-block;line-height: 1.2em;}#sk-container-id-2 div.sk-label-container {text-align: center;}#sk-container-id-2 div.sk-container {/* jupyter's `normalize.less` sets `[hidden] { display: none; }` but bootstrap.min.css set `[hidden] { display: none !important; }` so we also need the `!important` here to be able to override the default hidden behavior on the sphinx rendered scikit-learn.org. See: https://github.com/scikit-learn/scikit-learn/issues/21755 */display: inline-block !important;position: relative;}#sk-container-id-2 div.sk-text-repr-fallback {display: none;}</style><div id=\"sk-container-id-2\" class=\"sk-top-container\"><div class=\"sk-text-repr-fallback\"><pre>DecisionTreeClassifier(max_depth=3)</pre><b>In a Jupyter environment, please rerun this cell to show the HTML representation or trust the notebook. <br />On GitHub, the HTML representation is unable to render, please try loading this page with nbviewer.org.</b></div><div class=\"sk-container\" hidden><div class=\"sk-item\"><div class=\"sk-estimator sk-toggleable\"><input class=\"sk-toggleable__control sk-hidden--visually\" id=\"sk-estimator-id-2\" type=\"checkbox\" checked><label for=\"sk-estimator-id-2\" class=\"sk-toggleable__label sk-toggleable__label-arrow\">DecisionTreeClassifier</label><div class=\"sk-toggleable__content\"><pre>DecisionTreeClassifier(max_depth=3)</pre></div></div></div></div></div>"
      ],
      "text/plain": [
       "DecisionTreeClassifier(max_depth=3)"
      ]
     },
     "execution_count": 30,
     "metadata": {},
     "output_type": "execute_result"
    }
   ],
   "source": [
    "from sklearn.tree import DecisionTreeClassifier\n",
    "\n",
    "DTC = DecisionTreeClassifier(max_depth=3)          # arbitrary choice of 3 levels\n",
    "DTC.fit(X_train_num, y_train)                      # we go back to using our pre-scaled, numerical X dataset"
   ]
  },
  {
   "cell_type": "code",
   "execution_count": 31,
   "id": "18476643",
   "metadata": {},
   "outputs": [
    {
     "name": "stdout",
     "output_type": "stream",
     "text": [
      "Test data score:  0.9493790284546455\n",
      "Train data score:  0.9492067235257897\n"
     ]
    }
   ],
   "source": [
    "score_DTC = DTC.score(X_test_num,y_test)\n",
    "print(\"Test data score: \", score_DTC)\n",
    "print(\"Train data score: \", DTC.score(X_train_num,y_train))"
   ]
  },
  {
   "cell_type": "code",
   "execution_count": 32,
   "id": "97ab4207",
   "metadata": {},
   "outputs": [
    {
     "name": "stdout",
     "output_type": "stream",
     "text": [
      "|--- LASTGIFT <= 14.03\n",
      "|   |--- LASTGIFT <= 8.22\n",
      "|   |   |--- AVGGIFT <= 8.97\n",
      "|   |   |   |--- class: 0\n",
      "|   |   |--- AVGGIFT >  8.97\n",
      "|   |   |   |--- class: 0\n",
      "|   |--- LASTGIFT >  8.22\n",
      "|   |   |--- LASTDATE <= 9701.50\n",
      "|   |   |   |--- class: 0\n",
      "|   |   |--- LASTDATE >  9701.50\n",
      "|   |   |   |--- class: 0\n",
      "|--- LASTGIFT >  14.03\n",
      "|   |--- HVP1 <= 10.50\n",
      "|   |   |--- NGIFTALL <= 4.50\n",
      "|   |   |   |--- class: 0\n",
      "|   |   |--- NGIFTALL >  4.50\n",
      "|   |   |   |--- class: 0\n",
      "|   |--- HVP1 >  10.50\n",
      "|   |   |--- EC3 <= 35.50\n",
      "|   |   |   |--- class: 0\n",
      "|   |   |--- EC3 >  35.50\n",
      "|   |   |   |--- class: 0\n",
      "\n"
     ]
    }
   ],
   "source": [
    "from sklearn.tree import export_text\n",
    "\n",
    "tree = export_text(DTC, feature_names=list(X_train_num.columns))\n",
    "print(tree)"
   ]
  },
  {
   "cell_type": "code",
   "execution_count": 33,
   "id": "0e5451ec",
   "metadata": {},
   "outputs": [],
   "source": [
    "# interesting that 'LASTGIFT' appears in two different level-nodes"
   ]
  },
  {
   "cell_type": "markdown",
   "id": "b702da5c",
   "metadata": {},
   "source": [
    "### Summary of scores so far"
   ]
  },
  {
   "cell_type": "code",
   "execution_count": 34,
   "id": "b8ed12e2",
   "metadata": {},
   "outputs": [
    {
     "name": "stdout",
     "output_type": "stream",
     "text": [
      "Original Logistic Regression score:       0.9494\n",
      "Over-sampled Logistic Regression score:   0.6187\n",
      "Under-sampled Logistic Regression score:  0.5905\n",
      "Nearest Neighbour score:                  0.9479\n",
      "Decision Tree Classifier score:           0.9494\n"
     ]
    }
   ],
   "source": [
    "print('Original Logistic Regression score:      ', round(score_LR,4))\n",
    "print('Over-sampled Logistic Regression score:  ', round(score_LR_over,4))\n",
    "print('Under-sampled Logistic Regression score: ', round(score_LR_under,4))\n",
    "print('Nearest Neighbour score:                 ', round(score_KNC,4))\n",
    "print('Decision Tree Classifier score:          ', round(score_DTC,4))"
   ]
  },
  {
   "cell_type": "code",
   "execution_count": 35,
   "id": "89c1fd25",
   "metadata": {},
   "outputs": [],
   "source": [
    "# The original LR model and the DTC have generated the best (and identical to 10dp !!!) scores.\n",
    "# This is especially strange as only the numerical data was used in the DTC.\n",
    "# Over/under sampling did not improve the LR model.\n",
    "# KNC also producted a good result."
   ]
  },
  {
   "cell_type": "markdown",
   "id": "099abaf7",
   "metadata": {},
   "source": [
    "### Hyperparameter optimisation"
   ]
  },
  {
   "cell_type": "code",
   "execution_count": 36,
   "id": "9559bb2c",
   "metadata": {},
   "outputs": [],
   "source": [
    "# Let's try to improve the LR model by amending parameters"
   ]
  },
  {
   "cell_type": "code",
   "execution_count": 37,
   "id": "5a1f1355",
   "metadata": {},
   "outputs": [
    {
     "data": {
      "text/plain": [
       "{'fit_time': array([13.9911871 , 15.74153972, 14.5428803 , 18.38295341, 16.47683191]),\n",
       " 'score_time': array([0.02093935, 0.02094293, 0.02393603, 0.02293777, 0.0287354 ]),\n",
       " 'test_score': array([0.94923359, 0.94923359, 0.94916809, 0.94916809, 0.94923027])}"
      ]
     },
     "execution_count": 37,
     "metadata": {},
     "output_type": "execute_result"
    }
   ],
   "source": [
    "# for reference:\n",
    "\n",
    "from sklearn.model_selection import cross_validate\n",
    "\n",
    "cross_validate(LR, X_train_transformed, y_train, cv = 5)"
   ]
  },
  {
   "cell_type": "code",
   "execution_count": 38,
   "id": "890fadf7",
   "metadata": {},
   "outputs": [],
   "source": [
    "from sklearn.model_selection import GridSearchCV\n",
    "\n",
    "# let's pick some parameters at random, we will therefore generate 4 models\n",
    "\n",
    "model = LogisticRegression()\n",
    "\n",
    "grid = {'class_weight': [None, 'balanced'],\n",
    "        'solver': ['lbfgs', 'saga'],\n",
    "        'max_iter': 1000, # fixed as I got a warning when using the default, 100, earlier\n",
    "        }"
   ]
  },
  {
   "cell_type": "code",
   "execution_count": 39,
   "id": "213acab9",
   "metadata": {},
   "outputs": [],
   "source": [
    "grid_search = GridSearchCV(estimator = model, param_grid = grid, cv = 5)"
   ]
  },
  {
   "cell_type": "code",
   "execution_count": null,
   "id": "4720b26b",
   "metadata": {},
   "outputs": [],
   "source": [
    "%%time\n",
    "\n",
    "grid_search.fit(X_train_transformed, y_train)\n",
    "\n",
    "grid_search.best_params_"
   ]
  },
  {
   "cell_type": "code",
   "execution_count": null,
   "id": "7f95eb01",
   "metadata": {},
   "outputs": [],
   "source": [
    "# wouldn't run, timed out so I can't compare the scores"
   ]
  },
  {
   "cell_type": "code",
   "execution_count": null,
   "id": "9dd9960e",
   "metadata": {},
   "outputs": [],
   "source": [
    "print('Original Logistic Regression score:      ', score_LR)\n",
    "print('Improved Logistic Regression score:      ', grid_search.best_score_)"
   ]
  },
  {
   "cell_type": "code",
   "execution_count": null,
   "id": "2a72ede0",
   "metadata": {},
   "outputs": [],
   "source": [
    "# "
   ]
  }
 ],
 "metadata": {
  "kernelspec": {
   "display_name": "Python 3 (ipykernel)",
   "language": "python",
   "name": "python3"
  },
  "language_info": {
   "codemirror_mode": {
    "name": "ipython",
    "version": 3
   },
   "file_extension": ".py",
   "mimetype": "text/x-python",
   "name": "python",
   "nbconvert_exporter": "python",
   "pygments_lexer": "ipython3",
   "version": "3.10.9"
  }
 },
 "nbformat": 4,
 "nbformat_minor": 5
}
